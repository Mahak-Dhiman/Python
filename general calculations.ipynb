{
 "cells": [
  {
   "cell_type": "code",
   "execution_count": 1,
   "metadata": {},
   "outputs": [
    {
     "name": "stdout",
     "output_type": "stream",
     "text": [
      "Enter subtotal, gratuity rate: 10,15\n",
      "gratuity is: 1.5\n",
      "total is:  11.5\n"
     ]
    }
   ],
   "source": [
    "#financial application\n",
    "subtotal, gratuityRate = eval(input(\"Enter subtotal, gratuity rate: \"))\n",
    "total = subtotal + ((gratuityRate/100)*subtotal)\n",
    "gratuity = ((gratuityRate/100)*subtotal)\n",
    "print(\"gratuity is:\", gratuity)\n",
    "print(\"total is: \", total)"
   ]
  },
  {
   "cell_type": "code",
   "execution_count": 2,
   "metadata": {},
   "outputs": [
    {
     "name": "stdout",
     "output_type": "stream",
     "text": [
      "Enter the integer between 0 and 1000: 932\n",
      "2 3 9\n",
      "the sum is:  14\n"
     ]
    }
   ],
   "source": [
    "#sum the digits in an integer\n",
    "number = int(input(\"Enter the integer between 0 and 1000: \"))\n",
    "digit1 = number % 10\n",
    "number = number // 10\n",
    "digit2 = number % 10\n",
    "number = number //10\n",
    "digit3 = number % 10\n",
    "print (digit1,digit2, digit3)\n",
    "sum = digit1 + digit2 + digit3\n",
    "print(\"the sum is: \", sum)"
   ]
  },
  {
   "cell_type": "code",
   "execution_count": 3,
   "metadata": {},
   "outputs": [
    {
     "name": "stdout",
     "output_type": "stream",
     "text": [
      "Enter the minutes: 1000000000\n",
      "1902 years and 214 days.\n"
     ]
    }
   ],
   "source": [
    "#find number of years and days\n",
    "minutes = int(input(\"Enter the minutes: \"))\n",
    "hour = minutes//60\n",
    "day = hour//24\n",
    "days = day%365\n",
    "year = day//365\n",
    "\n",
    "print(year,\"years and\", days, \"days.\")"
   ]
  },
  {
   "cell_type": "code",
   "execution_count": 4,
   "metadata": {},
   "outputs": [
    {
     "name": "stdout",
     "output_type": "stream",
     "text": [
      "Enter speed in m/s, acceleration in m/s2: 60,3.5\n",
      "length of runway is:  514.2857142857143 meters\n"
     ]
    }
   ],
   "source": [
    "#find runway length\n",
    "speed, acc = eval(input(\"Enter speed in m/s, acceleration in m/s2: \"))\n",
    "length = speed**2/(2*acc)\n",
    "print(\"length of runway is: \", length,\"meters\")"
   ]
  },
  {
   "cell_type": "code",
   "execution_count": 6,
   "metadata": {},
   "outputs": [
    {
     "name": "stdout",
     "output_type": "stream",
     "text": [
      "current time is:  15 : 46 : 24\n",
      "Enter time zone offset hour to gmt:5\n",
      "after offset, time is:  20 : 46 : 24\n"
     ]
    }
   ],
   "source": [
    "# current time\n",
    "import time\n",
    "current = time.time()\n",
    "\n",
    "totalSec = int(current)\n",
    "currentSec = totalSec % 60\n",
    "\n",
    "totalMin = totalSec//60\n",
    "currentMin = totalMin % 60\n",
    "\n",
    "totalHour = totalMin//60\n",
    "currentHour = totalHour%24\n",
    "print(\"current time is: \", currentHour,\":\",currentMin,\":\",currentSec)\n",
    "\n",
    "offsetHour = eval(input(\"Enter time zone offset hour to gmt:\"))\n",
    "a = currentHour + offsetHour\n",
    "\n",
    "print(\"after offset, time is: \", a,\":\",currentMin,\":\",currentSec)"
   ]
  },
  {
   "cell_type": "code",
   "execution_count": null,
   "metadata": {},
   "outputs": [],
   "source": []
  }
 ],
 "metadata": {
  "kernelspec": {
   "display_name": "Python 3",
   "language": "python",
   "name": "python3"
  },
  "language_info": {
   "codemirror_mode": {
    "name": "ipython",
    "version": 3
   },
   "file_extension": ".py",
   "mimetype": "text/x-python",
   "name": "python",
   "nbconvert_exporter": "python",
   "pygments_lexer": "ipython3",
   "version": "3.7.6"
  }
 },
 "nbformat": 4,
 "nbformat_minor": 4
}
