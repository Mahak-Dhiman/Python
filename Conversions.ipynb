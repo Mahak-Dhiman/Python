{
 "cells": [
  {
   "cell_type": "code",
   "execution_count": 3,
   "metadata": {},
   "outputs": [
    {
     "name": "stdout",
     "output_type": "stream",
     "text": [
      "Enter a degree in celsius: 43\n",
      "its fahrenheit is:  109.4\n"
     ]
    }
   ],
   "source": [
    "#celsius to fahrenheit\n",
    "celsius = eval(input(\"Enter a degree in celsius: \"))\n",
    "fahrenheit = (9/5) * celsius + 32\n",
    "print(\"its fahrenheit is: \", fahrenheit)"
   ]
  },
  {
   "cell_type": "code",
   "execution_count": 4,
   "metadata": {},
   "outputs": [
    {
     "name": "stdout",
     "output_type": "stream",
     "text": [
      "Radius of cylinder, Length of cylinder: 5.5, 12\n",
      "area is:  95.03037499999999\n",
      "volume is:  1140.3645\n"
     ]
    }
   ],
   "source": [
    "#volume of cylinder\n",
    "radius, length = eval(input(\"Radius of cylinder, Length of cylinder: \"))\n",
    "area = 3.1415 * radius * radius\n",
    "volume = area * length\n",
    "print(\"area is: \", area)\n",
    "print(\"volume is: \", volume)"
   ]
  },
  {
   "cell_type": "code",
   "execution_count": 6,
   "metadata": {},
   "outputs": [
    {
     "name": "stdout",
     "output_type": "stream",
     "text": [
      "enter the length in feet: 16.5\n",
      "meters:  5.0325\n"
     ]
    }
   ],
   "source": [
    "# convert feet into meters\n",
    "feet = eval(input(\"enter the length in feet: \"))\n",
    "meters = feet*0.305\n",
    "print(\"meters: \", meters)"
   ]
  },
  {
   "cell_type": "code",
   "execution_count": 7,
   "metadata": {},
   "outputs": [
    {
     "name": "stdout",
     "output_type": "stream",
     "text": [
      "enter pound value: 55.5\n",
      "kilograms is :  25.197\n"
     ]
    }
   ],
   "source": [
    "#pound to kilograms\n",
    "pound = eval(input(\"enter pound value: \"))\n",
    "kg = pound * 0.454\n",
    "print(\"kilograms is : \", kg)"
   ]
  },
  {
   "cell_type": "code",
   "execution_count": null,
   "metadata": {},
   "outputs": [],
   "source": []
  }
 ],
 "metadata": {
  "kernelspec": {
   "display_name": "Python 3",
   "language": "python",
   "name": "python3"
  },
  "language_info": {
   "codemirror_mode": {
    "name": "ipython",
    "version": 3
   },
   "file_extension": ".py",
   "mimetype": "text/x-python",
   "name": "python",
   "nbconvert_exporter": "python",
   "pygments_lexer": "ipython3",
   "version": "3.7.6"
  }
 },
 "nbformat": 4,
 "nbformat_minor": 4
}
