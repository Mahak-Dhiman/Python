{
 "cells": [
  {
   "cell_type": "code",
   "execution_count": 1,
   "metadata": {},
   "outputs": [],
   "source": [
    "#Drawing Olympics LOGO\n",
    "import turtle\n",
    "turtle.color(\"blue\")\n",
    "turtle.penup()\n",
    "turtle.goto(-110,-25)\n",
    "turtle.pendown()\n",
    "turtle.circle(45)\n",
    "\n",
    "turtle.color(\"black\")\n",
    "turtle.penup()\n",
    "turtle.goto(0,-25)\n",
    "turtle.pendown()\n",
    "turtle.circle(45)\n",
    "\n",
    "turtle.color(\"red\")\n",
    "turtle.penup()\n",
    "turtle.goto(110,-25)\n",
    "turtle.pendown()\n",
    "turtle.circle(45)\n",
    "\n",
    "turtle.color(\"yellow\")\n",
    "turtle.penup()\n",
    "turtle.goto(-55,-75)\n",
    "turtle.pendown()\n",
    "turtle.circle(45)\n",
    "\n",
    "turtle.color(\"green\")\n",
    "turtle.penup()\n",
    "turtle.goto(55,-75)\n",
    "turtle.pendown()\n",
    "turtle.circle(45)\n",
    "\n",
    "turtle.done()"
   ]
  },
  {
   "cell_type": "code",
   "execution_count": null,
   "metadata": {},
   "outputs": [],
   "source": []
  }
 ],
 "metadata": {
  "kernelspec": {
   "display_name": "Python 3",
   "language": "python",
   "name": "python3"
  },
  "language_info": {
   "codemirror_mode": {
    "name": "ipython",
    "version": 3
   },
   "file_extension": ".py",
   "mimetype": "text/x-python",
   "name": "python",
   "nbconvert_exporter": "python",
   "pygments_lexer": "ipython3",
   "version": "3.7.6"
  }
 },
 "nbformat": 4,
 "nbformat_minor": 4
}
